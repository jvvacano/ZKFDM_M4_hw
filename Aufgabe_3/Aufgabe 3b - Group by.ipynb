{
 "cells": [
  {
   "cell_type": "code",
   "execution_count": 1,
   "id": "064e0773",
   "metadata": {},
   "outputs": [],
   "source": [
    "import pandas as pd"
   ]
  },
  {
   "cell_type": "markdown",
   "id": "08ff687e",
   "metadata": {},
   "source": [
    "»Wir erstellen einen neuen DataFrame, der Preise für verschiedene Journale enthält.«"
   ]
  },
  {
   "cell_type": "code",
   "execution_count": 2,
   "id": "1238df15",
   "metadata": {},
   "outputs": [],
   "source": [
    "df_doi_journal_price = pd.DataFrame({\n",
    "    \"DOI\": [\n",
    "        \"10.1371/journal.pcbi.1004668\",\n",
    "        \"10.21105/joss.01035\",\n",
    "        \"10.12688/f1000research.18866.2\",\n",
    "        \"10.1038/s41598-019-52881-4\",\n",
    "        \"10.1186/s12859-019-3171-0\",\n",
    "        \"10.1186/s12859-019-3171-1\",\n",
    "        \"10.1186/s12859-019-3171-3\"],\n",
    "    \"journal\": [\n",
    "        \"PLoS Comput Biol\",\n",
    "        \"BMC Bioinformatics\",\n",
    "        \"F1000Res\",\n",
    "        \"Sci Rep\",\n",
    "        \"BMC Bioinformatics\",\n",
    "        \"PLoS Comput Biol\",\n",
    "        \"BMC Bioinformatics\"],\n",
    "    \"price\": [\n",
    "        2000,\n",
    "        2000,\n",
    "        1500,\n",
    "        1000,\n",
    "        1500,\n",
    "        1500,\n",
    "        1600\n",
    "    ]})"
   ]
  },
  {
   "cell_type": "markdown",
   "id": "95a6c9c3",
   "metadata": {},
   "source": [
    "»Nutze die GroupBy von pandas um die Summe der Ausgaben und die Durchschnittlichen Preise pro Journal zu berechnen.«\n",
    "[pandas.DataFrame.groupby](https://pandas.pydata.org/pandas-docs/stable/reference/api/pandas.DataFrame.groupby.html, \"groupby in der Pandas-Dokumentation\")"
   ]
  },
  {
   "cell_type": "code",
   "execution_count": 3,
   "id": "fe825f8c",
   "metadata": {},
   "outputs": [
    {
     "data": {
      "text/html": [
       "<div>\n",
       "<style scoped>\n",
       "    .dataframe tbody tr th:only-of-type {\n",
       "        vertical-align: middle;\n",
       "    }\n",
       "\n",
       "    .dataframe tbody tr th {\n",
       "        vertical-align: top;\n",
       "    }\n",
       "\n",
       "    .dataframe thead th {\n",
       "        text-align: right;\n",
       "    }\n",
       "</style>\n",
       "<table border=\"1\" class=\"dataframe\">\n",
       "  <thead>\n",
       "    <tr style=\"text-align: right;\">\n",
       "      <th></th>\n",
       "      <th>price</th>\n",
       "    </tr>\n",
       "    <tr>\n",
       "      <th>journal</th>\n",
       "      <th></th>\n",
       "    </tr>\n",
       "  </thead>\n",
       "  <tbody>\n",
       "    <tr>\n",
       "      <th>BMC Bioinformatics</th>\n",
       "      <td>1700</td>\n",
       "    </tr>\n",
       "    <tr>\n",
       "      <th>F1000Res</th>\n",
       "      <td>1500</td>\n",
       "    </tr>\n",
       "    <tr>\n",
       "      <th>PLoS Comput Biol</th>\n",
       "      <td>1750</td>\n",
       "    </tr>\n",
       "    <tr>\n",
       "      <th>Sci Rep</th>\n",
       "      <td>1000</td>\n",
       "    </tr>\n",
       "  </tbody>\n",
       "</table>\n",
       "</div>"
      ],
      "text/plain": [
       "                    price\n",
       "journal                  \n",
       "BMC Bioinformatics   1700\n",
       "F1000Res             1500\n",
       "PLoS Comput Biol     1750\n",
       "Sci Rep              1000"
      ]
     },
     "execution_count": 3,
     "metadata": {},
     "output_type": "execute_result"
    }
   ],
   "source": [
    "# Durchschnittspreis .mean\n",
    "df_doi_journal_price.groupby(['journal']).mean()"
   ]
  },
  {
   "cell_type": "code",
   "execution_count": 8,
   "id": "49482bb1",
   "metadata": {},
   "outputs": [
    {
     "data": {
      "text/html": [
       "<div>\n",
       "<style scoped>\n",
       "    .dataframe tbody tr th:only-of-type {\n",
       "        vertical-align: middle;\n",
       "    }\n",
       "\n",
       "    .dataframe tbody tr th {\n",
       "        vertical-align: top;\n",
       "    }\n",
       "\n",
       "    .dataframe thead th {\n",
       "        text-align: right;\n",
       "    }\n",
       "</style>\n",
       "<table border=\"1\" class=\"dataframe\">\n",
       "  <thead>\n",
       "    <tr style=\"text-align: right;\">\n",
       "      <th></th>\n",
       "      <th>price</th>\n",
       "    </tr>\n",
       "    <tr>\n",
       "      <th>journal</th>\n",
       "      <th></th>\n",
       "    </tr>\n",
       "  </thead>\n",
       "  <tbody>\n",
       "    <tr>\n",
       "      <th>BMC Bioinformatics</th>\n",
       "      <td>5100</td>\n",
       "    </tr>\n",
       "    <tr>\n",
       "      <th>F1000Res</th>\n",
       "      <td>1500</td>\n",
       "    </tr>\n",
       "    <tr>\n",
       "      <th>PLoS Comput Biol</th>\n",
       "      <td>3500</td>\n",
       "    </tr>\n",
       "    <tr>\n",
       "      <th>Sci Rep</th>\n",
       "      <td>1000</td>\n",
       "    </tr>\n",
       "  </tbody>\n",
       "</table>\n",
       "</div>"
      ],
      "text/plain": [
       "                    price\n",
       "journal                  \n",
       "BMC Bioinformatics   5100\n",
       "F1000Res             1500\n",
       "PLoS Comput Biol     3500\n",
       "Sci Rep              1000"
      ]
     },
     "execution_count": 8,
     "metadata": {},
     "output_type": "execute_result"
    }
   ],
   "source": [
    "# Summe der Ausgaben pro Journal .sum\n",
    "df_doi_journal_price.groupby(['journal']).sum()"
   ]
  },
  {
   "cell_type": "code",
   "execution_count": 20,
   "id": "8a676f40",
   "metadata": {},
   "outputs": [
    {
     "name": "stdout",
     "output_type": "stream",
     "text": [
      "Gesamte Ausgaben\n"
     ]
    },
    {
     "data": {
      "text/plain": [
       "11100"
      ]
     },
     "execution_count": 20,
     "metadata": {},
     "output_type": "execute_result"
    }
   ],
   "source": [
    "# Summe einer einzelnen Spalte (die im Dataframe festgelegt wurde)\n",
    "print(\"Gesamte Ausgaben\")\n",
    "df_doi_journal_price[\"price\"].sum()"
   ]
  }
 ],
 "metadata": {
  "kernelspec": {
   "display_name": "Python 3",
   "language": "python",
   "name": "python3"
  },
  "language_info": {
   "codemirror_mode": {
    "name": "ipython",
    "version": 3
   },
   "file_extension": ".py",
   "mimetype": "text/x-python",
   "name": "python",
   "nbconvert_exporter": "python",
   "pygments_lexer": "ipython3",
   "version": "3.8.8"
  }
 },
 "nbformat": 4,
 "nbformat_minor": 5
}
